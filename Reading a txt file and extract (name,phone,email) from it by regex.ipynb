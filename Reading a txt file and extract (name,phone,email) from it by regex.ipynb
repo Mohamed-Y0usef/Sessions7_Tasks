{
 "cells": [
  {
   "cell_type": "code",
   "execution_count": 6,
   "id": "f9f33e3b",
   "metadata": {},
   "outputs": [],
   "source": [
    "import re"
   ]
  },
  {
   "cell_type": "code",
   "execution_count": 302,
   "id": "dcf3215a",
   "metadata": {
    "scrolled": true
   },
   "outputs": [
    {
     "name": "stdout",
     "output_type": "stream",
     "text": [
      "Mohamed Yousef Mohamed El-sayed 01085326987 Mohamed.yussef777@hotmail.com\n",
      "SalmaAhmed 01236987456 Salma23_Ahmed3@gmail.com\n",
      "Ahmed Yousef Adel 01198210368 Ahmed_Yousef-123@mti.cs.edu.com\n",
      "Soha Ali 01569854712 Soha.Ail6971@outlook.net\n",
      "MostafaMohamedAhmedAli 01021369785 Mostafa_Mohamed.Ahmed96Ali@yopmail.oi\n"
     ]
    }
   ],
   "source": [
    "file = open(\"names,phones,emails.txt\",\"w\")\n",
    "\n",
    "for i in range(5):\n",
    "    \n",
    "    # *name --> for enter a person name with spaces between each separate name and return the each separate name into list\n",
    "    *name, phone, email = input().split()   \n",
    "    \n",
    "    # ' '.join(name) --> to merge the list items to become a one string\n",
    "    data = f\"{' '.join(name)} {phone} {email}\\n\"\n",
    "    file.write(data)\n",
    "    \n",
    "file.close()"
   ]
  },
  {
   "cell_type": "code",
   "execution_count": 1,
   "id": "b56e3233",
   "metadata": {},
   "outputs": [],
   "source": [
    "fileread = open(\"names,phones,emails.txt\",\"r\")"
   ]
  },
  {
   "cell_type": "code",
   "execution_count": 2,
   "id": "cc845573",
   "metadata": {},
   "outputs": [],
   "source": [
    "readdata = fileread.readlines()"
   ]
  },
  {
   "cell_type": "code",
   "execution_count": 3,
   "id": "96577c50",
   "metadata": {},
   "outputs": [
    {
     "data": {
      "text/plain": [
       "['Mohamed Yousef Mohamed El-sayed 01085326987 Mohamed.yussef777@hotmail.com\\n',\n",
       " 'SalmaAhmed 01236987456 Salma23_Ahmed3@gmail.com\\n',\n",
       " 'Ahmed Yousef Adel 01198210368 Ahmed_Yousef-123@mti.cs.edu.com\\n',\n",
       " 'Soha Ali 01569854712 Soha.Ail6971@outlook.net\\n',\n",
       " 'MostafaMohamedAhmedAli 01021369785 Mostafa_Mohamed.Ahmed96Ali@yopmail.oi\\n']"
      ]
     },
     "execution_count": 3,
     "metadata": {},
     "output_type": "execute_result"
    }
   ],
   "source": [
    "readdata"
   ]
  },
  {
   "cell_type": "code",
   "execution_count": 7,
   "id": "371954ec",
   "metadata": {},
   "outputs": [],
   "source": [
    "names = []\n",
    "phones = []\n",
    "emails = []\n",
    "for i in readdata:\n",
    "    for j in re.finditer(r\"[a-zA-Z-_\\s]+(?= \\d{11})\",i):\n",
    "        names.append(j.group())\n",
    "    for j in re.finditer(r\"(010|011|012|015)\\d+\",i):\n",
    "        phones.append(j.group())\n",
    "    for j in re.finditer(r\"[a-zA-Z0-9-_.+]+@[a-zA-Z]+\\.[a-zA-Z0-9-.]+\",i):\n",
    "        emails.append(j.group())"
   ]
  },
  {
   "cell_type": "code",
   "execution_count": 8,
   "id": "22eaf2ad",
   "metadata": {},
   "outputs": [
    {
     "name": "stdout",
     "output_type": "stream",
     "text": [
      "['Mohamed Yousef Mohamed El-sayed', 'SalmaAhmed', 'Ahmed Yousef Adel', 'Soha Ali', 'MostafaMohamedAhmedAli']\n",
      "['01085326987', '01236987456', '01198210368', '01569854712', '01021369785']\n",
      "['Mohamed.yussef777@hotmail.com', 'Salma23_Ahmed3@gmail.com', 'Ahmed_Yousef-123@mti.cs.edu.com', 'Soha.Ail6971@outlook.net', 'Mostafa_Mohamed.Ahmed96Ali@yopmail.oi']\n"
     ]
    }
   ],
   "source": [
    "print(names)\n",
    "print(phones)\n",
    "print(emails)"
   ]
  }
 ],
 "metadata": {
  "kernelspec": {
   "display_name": "Python 3 (ipykernel)",
   "language": "python",
   "name": "python3"
  },
  "language_info": {
   "codemirror_mode": {
    "name": "ipython",
    "version": 3
   },
   "file_extension": ".py",
   "mimetype": "text/x-python",
   "name": "python",
   "nbconvert_exporter": "python",
   "pygments_lexer": "ipython3",
   "version": "3.9.7"
  },
  "varInspector": {
   "cols": {
    "lenName": 16,
    "lenType": 16,
    "lenVar": 40
   },
   "kernels_config": {
    "python": {
     "delete_cmd_postfix": "",
     "delete_cmd_prefix": "del ",
     "library": "var_list.py",
     "varRefreshCmd": "print(var_dic_list())"
    },
    "r": {
     "delete_cmd_postfix": ") ",
     "delete_cmd_prefix": "rm(",
     "library": "var_list.r",
     "varRefreshCmd": "cat(var_dic_list()) "
    }
   },
   "types_to_exclude": [
    "module",
    "function",
    "builtin_function_or_method",
    "instance",
    "_Feature"
   ],
   "window_display": false
  }
 },
 "nbformat": 4,
 "nbformat_minor": 5
}
